{
 "cells": [
  {
   "cell_type": "code",
   "execution_count": 1,
   "id": "54a31398",
   "metadata": {},
   "outputs": [
    {
     "name": "stdout",
     "output_type": "stream",
     "text": [
      " n_in  after_minlen  after_lang  after_spam  after_dedup  dropped_minlen  dropped_lang  dropped_spam  dropped_dup                                                                     lang_counts\n",
      "   40            38          34          34           34               2             4             0            0 {'pl': 20, 'uk': 10, 'ru': 1, 'unknown': 1, 'sk': 1, 'hr': 1, 'en': 1, 'hu': 1}\n",
      "                   comment_id  \\\n",
      "0  Ugx8YMgNr70XWO9_PGN4AaABAg   \n",
      "1  UgwnH4Az1RliZfk5B7x4AaABAg   \n",
      "2  UgxITgSgyx1a2BgJHd94AaABAg   \n",
      "3  UgyPwsZ3OWS21CNg0AF4AaABAg   \n",
      "4  Ugxa42Xs9RDHwgB3iJd4AaABAg   \n",
      "\n",
      "                                          text_clean lang  like_count  \n",
      "0  Чернівці люблю, чекаю на наступне відео) Вітаю...   uk          10  \n",
      "1  W końcu doczekałem się nowego odcinka. Pozdrawiam   pl           9  \n",
      "2  Щоб відчути справжню Україну у часи війни вам ...   uk           8  \n",
      "3  Kowalski,nie pieprz bzdury,bo u was parkany ta...   pl           7  \n",
      "4  Cześć, bardzo poruszające filmy. Jadąc z Karpa...   pl           6  \n"
     ]
    }
   ],
   "source": [
    "from app.tools.youtube import fetch_comments\n",
    "from app.tools.preprocess import select_fast_batch, preprocess_comments_df\n",
    "\n",
    "df_all = fetch_comments(\"https://www.youtube.com/watch?v=26riTPNOJbc\",\n",
    "                       sqlite_path=\"./.cache.db\",\n",
    "                       include_replies=True,\n",
    "                       max_comments=5000)\n",
    "\n",
    "df_fast = select_fast_batch(df_all, mode=\"top_likes\", limit=1200, include_replies=False)\n",
    "\n",
    "df_pre, dbg = preprocess_comments_df(\n",
    "    df_fast,\n",
    "    min_chars=12,                 # було 20 → зробили 12\n",
    "    keep_langs=(\"uk\",\"ru\",\"en\",\"pl\",\"cs\",\"sk\"),\n",
    "    drop_spam=True,\n",
    "    deduplicate=True,\n",
    "    aggressive_stopword_check=False,\n",
    "    return_debug=True\n",
    ")\n",
    "\n",
    "print(dbg.to_string(index=False))\n",
    "print(df_pre[[\"comment_id\",\"text_clean\",\"lang\",\"like_count\"]].head())\n"
   ]
  },
  {
   "cell_type": "code",
   "execution_count": 1,
   "id": "7a0f23d9",
   "metadata": {},
   "outputs": [
    {
     "name": "stderr",
     "output_type": "stream",
     "text": [
      "c:\\Users\\Ігор\\AppData\\Local\\Programs\\Python\\Python312\\Lib\\site-packages\\sentence_transformers\\cross_encoder\\CrossEncoder.py:13: TqdmExperimentalWarning: Using `tqdm.autonotebook.tqdm` in notebook mode. Use `tqdm.tqdm` instead to force console mode (e.g. in jupyter console)\n",
      "  from tqdm.autonotebook import tqdm, trange\n"
     ]
    },
    {
     "data": {
      "application/vnd.jupyter.widget-view+json": {
       "model_id": "2e23cc78819f4c0e9855a1623c09f487",
       "version_major": 2,
       "version_minor": 0
      },
      "text/plain": [
       "modules.json:   0%|          | 0.00/349 [00:00<?, ?B/s]"
      ]
     },
     "metadata": {},
     "output_type": "display_data"
    },
    {
     "name": "stderr",
     "output_type": "stream",
     "text": [
      "c:\\Users\\Ігор\\AppData\\Local\\Programs\\Python\\Python312\\Lib\\site-packages\\huggingface_hub\\file_download.py:143: UserWarning: `huggingface_hub` cache-system uses symlinks by default to efficiently store duplicated files but your machine does not support them in C:\\Users\\Ігор\\.cache\\huggingface\\hub\\models--BAAI--bge-m3. Caching files will still work but in a degraded version that might require more space on your disk. This warning can be disabled by setting the `HF_HUB_DISABLE_SYMLINKS_WARNING` environment variable. For more details, see https://huggingface.co/docs/huggingface_hub/how-to-cache#limitations.\n",
      "To support symlinks on Windows, you either need to activate Developer Mode or to run Python as an administrator. In order to activate developer mode, see this article: https://docs.microsoft.com/en-us/windows/apps/get-started/enable-your-device-for-development\n",
      "  warnings.warn(message)\n"
     ]
    },
    {
     "data": {
      "application/vnd.jupyter.widget-view+json": {
       "model_id": "5b8b857d33be463b8397f9fb297ba49d",
       "version_major": 2,
       "version_minor": 0
      },
      "text/plain": [
       "config_sentence_transformers.json:   0%|          | 0.00/123 [00:00<?, ?B/s]"
      ]
     },
     "metadata": {},
     "output_type": "display_data"
    },
    {
     "data": {
      "application/vnd.jupyter.widget-view+json": {
       "model_id": "64f5644379c64b4e8ba26488dfeab506",
       "version_major": 2,
       "version_minor": 0
      },
      "text/plain": [
       "README.md: 0.00B [00:00, ?B/s]"
      ]
     },
     "metadata": {},
     "output_type": "display_data"
    },
    {
     "data": {
      "application/vnd.jupyter.widget-view+json": {
       "model_id": "83434d1327854bd58397d8c76ea8e260",
       "version_major": 2,
       "version_minor": 0
      },
      "text/plain": [
       "sentence_bert_config.json:   0%|          | 0.00/54.0 [00:00<?, ?B/s]"
      ]
     },
     "metadata": {},
     "output_type": "display_data"
    },
    {
     "data": {
      "application/vnd.jupyter.widget-view+json": {
       "model_id": "6216197ec0a140eb970361ece3f7b8d2",
       "version_major": 2,
       "version_minor": 0
      },
      "text/plain": [
       "config.json:   0%|          | 0.00/687 [00:00<?, ?B/s]"
      ]
     },
     "metadata": {},
     "output_type": "display_data"
    },
    {
     "data": {
      "application/vnd.jupyter.widget-view+json": {
       "model_id": "73d2163c2c1145719c914f091ee89fbd",
       "version_major": 2,
       "version_minor": 0
      },
      "text/plain": [
       "pytorch_model.bin:   0%|          | 0.00/2.27G [00:00<?, ?B/s]"
      ]
     },
     "metadata": {},
     "output_type": "display_data"
    },
    {
     "data": {
      "application/vnd.jupyter.widget-view+json": {
       "model_id": "8220931cd1d44baf918b2e6a194dd46c",
       "version_major": 2,
       "version_minor": 0
      },
      "text/plain": [
       "tokenizer_config.json:   0%|          | 0.00/444 [00:00<?, ?B/s]"
      ]
     },
     "metadata": {},
     "output_type": "display_data"
    },
    {
     "data": {
      "application/vnd.jupyter.widget-view+json": {
       "model_id": "152136cff110432988baa7a3d0af20da",
       "version_major": 2,
       "version_minor": 0
      },
      "text/plain": [
       "sentencepiece.bpe.model:   0%|          | 0.00/5.07M [00:00<?, ?B/s]"
      ]
     },
     "metadata": {},
     "output_type": "display_data"
    },
    {
     "data": {
      "application/vnd.jupyter.widget-view+json": {
       "model_id": "cac30ace7cee41ab9d7f8f978aaece3d",
       "version_major": 2,
       "version_minor": 0
      },
      "text/plain": [
       "tokenizer.json:   0%|          | 0.00/17.1M [00:00<?, ?B/s]"
      ]
     },
     "metadata": {},
     "output_type": "display_data"
    },
    {
     "data": {
      "application/vnd.jupyter.widget-view+json": {
       "model_id": "91f74305c88f490da516943100fbc2f9",
       "version_major": 2,
       "version_minor": 0
      },
      "text/plain": [
       "special_tokens_map.json:   0%|          | 0.00/964 [00:00<?, ?B/s]"
      ]
     },
     "metadata": {},
     "output_type": "display_data"
    },
    {
     "data": {
      "application/vnd.jupyter.widget-view+json": {
       "model_id": "f486ffd0b27d4774a55591ca5023d600",
       "version_major": 2,
       "version_minor": 0
      },
      "text/plain": [
       "config.json:   0%|          | 0.00/191 [00:00<?, ?B/s]"
      ]
     },
     "metadata": {},
     "output_type": "display_data"
    },
    {
     "data": {
      "text/html": [
       "<div>\n",
       "<style scoped>\n",
       "    .dataframe tbody tr th:only-of-type {\n",
       "        vertical-align: middle;\n",
       "    }\n",
       "\n",
       "    .dataframe tbody tr th {\n",
       "        vertical-align: top;\n",
       "    }\n",
       "\n",
       "    .dataframe thead th {\n",
       "        text-align: right;\n",
       "    }\n",
       "</style>\n",
       "<table border=\"1\" class=\"dataframe\">\n",
       "  <thead>\n",
       "    <tr style=\"text-align: right;\">\n",
       "      <th></th>\n",
       "      <th>topic_id</th>\n",
       "      <th>size</th>\n",
       "      <th>share</th>\n",
       "      <th>example_comment_ids</th>\n",
       "      <th>example_quotes</th>\n",
       "    </tr>\n",
       "  </thead>\n",
       "  <tbody>\n",
       "    <tr>\n",
       "      <th>0</th>\n",
       "      <td>0</td>\n",
       "      <td>33</td>\n",
       "      <td>0.9706</td>\n",
       "      <td>[UgxKXMF8Lyu6gTeuLch4AaABAg, UgwNvS1NJusXYwXlv...</td>\n",
       "      <td>[Cześć, ceny za budynek to oszustwo, chiba gdz...</td>\n",
       "    </tr>\n",
       "  </tbody>\n",
       "</table>\n",
       "</div>"
      ],
      "text/plain": [
       "   topic_id  size   share                                example_comment_ids  \\\n",
       "0         0    33  0.9706  [UgxKXMF8Lyu6gTeuLch4AaABAg, UgwNvS1NJusXYwXlv...   \n",
       "\n",
       "                                      example_quotes  \n",
       "0  [Cześć, ceny za budynek to oszustwo, chiba gdz...  "
      ]
     },
     "metadata": {},
     "output_type": "display_data"
    }
   ],
   "source": [
    "from app.tools.youtube import fetch_comments\n",
    "from app.tools.preprocess import select_fast_batch, preprocess_comments_df\n",
    "from app.tools.embeddings import embed_texts\n",
    "from app.tools.cluster import cluster_embeddings, summarize_clusters, attach_cluster_columns\n",
    "\n",
    "# 1) витягуємо / кеш\n",
    "df_all = fetch_comments(\"https://www.youtube.com/watch?v=26riTPNOJbc\",\n",
    "                       sqlite_path=\"./.cache.db\",\n",
    "                       include_replies=True,\n",
    "                       max_comments=5000)\n",
    "\n",
    "# 2) швидкий режим + препроцес\n",
    "df_fast = select_fast_batch(df_all, mode=\"top_likes\", limit=1200, include_replies=False)\n",
    "df_pre  = preprocess_comments_df(df_fast, min_chars=12,\n",
    "                                 keep_langs=(\"uk\",\"ru\",\"en\",\"pl\",\"cs\",\"sk\"))\n",
    "\n",
    "# 3) ембеддинги\n",
    "X = embed_texts(df_pre[\"text_clean\"].tolist())   # використовує EMB_MODEL з .env\n",
    "\n",
    "# 4) кластеризація\n",
    "labels = cluster_embeddings(X, sim_threshold=0.34, min_cluster_size=3)\n",
    "\n",
    "# 5) коротке резюме по кластерах (поки без LLM-лейблів)\n",
    "topics_df = summarize_clusters(df_pre, X, labels, topk_quotes=3)\n",
    "display(topics_df.head())\n",
    "\n",
    "# 6) (опц.) прикріпити у вихідний df для подальших кроків\n",
    "df_with_clusters = attach_cluster_columns(df_pre, X, labels)\n"
   ]
  }
 ],
 "metadata": {
  "kernelspec": {
   "display_name": "Python 3",
   "language": "python",
   "name": "python3"
  },
  "language_info": {
   "codemirror_mode": {
    "name": "ipython",
    "version": 3
   },
   "file_extension": ".py",
   "mimetype": "text/x-python",
   "name": "python",
   "nbconvert_exporter": "python",
   "pygments_lexer": "ipython3",
   "version": "3.12.1"
  }
 },
 "nbformat": 4,
 "nbformat_minor": 5
}
