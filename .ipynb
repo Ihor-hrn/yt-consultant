{
 "cells": [
  {
   "cell_type": "code",
   "execution_count": 1,
   "id": "54a31398",
   "metadata": {},
   "outputs": [
    {
     "name": "stdout",
     "output_type": "stream",
     "text": [
      " n_in  after_minlen  after_lang  after_spam  after_dedup  dropped_minlen  dropped_lang  dropped_spam  dropped_dup                                                                     lang_counts\n",
      "   40            38          34          34           34               2             4             0            0 {'pl': 20, 'uk': 10, 'ru': 1, 'unknown': 1, 'sk': 1, 'hr': 1, 'en': 1, 'hu': 1}\n",
      "                   comment_id  \\\n",
      "0  Ugx8YMgNr70XWO9_PGN4AaABAg   \n",
      "1  UgwnH4Az1RliZfk5B7x4AaABAg   \n",
      "2  UgxITgSgyx1a2BgJHd94AaABAg   \n",
      "3  UgyPwsZ3OWS21CNg0AF4AaABAg   \n",
      "4  Ugxa42Xs9RDHwgB3iJd4AaABAg   \n",
      "\n",
      "                                          text_clean lang  like_count  \n",
      "0  Чернівці люблю, чекаю на наступне відео) Вітаю...   uk          10  \n",
      "1  W końcu doczekałem się nowego odcinka. Pozdrawiam   pl           9  \n",
      "2  Щоб відчути справжню Україну у часи війни вам ...   uk           8  \n",
      "3  Kowalski,nie pieprz bzdury,bo u was parkany ta...   pl           7  \n",
      "4  Cześć, bardzo poruszające filmy. Jadąc z Karpa...   pl           6  \n"
     ]
    }
   ],
   "source": [
    "from app.tools.youtube import fetch_comments\n",
    "from app.tools.preprocess import select_fast_batch, preprocess_comments_df\n",
    "\n",
    "df_all = fetch_comments(\"https://www.youtube.com/watch?v=26riTPNOJbc\",\n",
    "                       sqlite_path=\"./.cache.db\",\n",
    "                       include_replies=True,\n",
    "                       max_comments=5000)\n",
    "\n",
    "df_fast = select_fast_batch(df_all, mode=\"top_likes\", limit=1200, include_replies=False)\n",
    "\n",
    "df_pre, dbg = preprocess_comments_df(\n",
    "    df_fast,\n",
    "    min_chars=12,                 # було 20 → зробили 12\n",
    "    keep_langs=(\"uk\",\"ru\",\"en\",\"pl\",\"cs\",\"sk\"),\n",
    "    drop_spam=True,\n",
    "    deduplicate=True,\n",
    "    aggressive_stopword_check=False,\n",
    "    return_debug=True\n",
    ")\n",
    "\n",
    "print(dbg.to_string(index=False))\n",
    "print(df_pre[[\"comment_id\",\"text_clean\",\"lang\",\"like_count\"]].head())\n"
   ]
  }
 ],
 "metadata": {
  "kernelspec": {
   "display_name": "Python 3",
   "language": "python",
   "name": "python3"
  },
  "language_info": {
   "codemirror_mode": {
    "name": "ipython",
    "version": 3
   },
   "file_extension": ".py",
   "mimetype": "text/x-python",
   "name": "python",
   "nbconvert_exporter": "python",
   "pygments_lexer": "ipython3",
   "version": "3.12.1"
  }
 },
 "nbformat": 4,
 "nbformat_minor": 5
}
